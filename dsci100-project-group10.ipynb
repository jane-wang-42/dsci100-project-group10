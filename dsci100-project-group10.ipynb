{
 "cells": [
  {
   "cell_type": "markdown",
   "metadata": {},
   "source": [
    "# **Predicting Subscription Status Based on player characteristics**\n",
    "\n",
    "### Data Science 100 Project - Group 10\n",
    "\n",
    "- Kyle Nguyen (76276393)\n",
    "- Jiayin Wang (47186200)\n",
    "- Clianta Anindya (78508892)\n"
   ]
  },
  {
   "cell_type": "markdown",
   "metadata": {},
   "source": [
    "### **Introduction**"
   ]
  },
  {
   "cell_type": "markdown",
   "metadata": {},
   "source": [
    "#### **(1) Background Information**\n",
    "In recent years, the gaming industry has increasingly relied on data to better understand player behavior and improve user engagement.\n",
    "One area of interest is predicting which players are most likely to subscribe to game-related newsletters, as this can inform targeted recruitment strategies, optimize resource allocation, and improve community building around gaming platforms.\n",
    "\n",
    "This project is based on data collected by a research group at UBC, led by Professor Frank Wood. The group operates a Minecraft research server (_plaicraft.ai_) where they track how users interact within the virtual world. The goal of the broader research initiative is to study player behavior at scale and to identify actionable insights for improving the management and outreach of such servers.\n",
    "\n",
    "Our group is addressing Question 1 from the project brief: **What player characteristics and behaviours are most predictive of subscribing to a game-related newsletter, and how do these features differ between various player types?**\n",
    "\n",
    "To explore this, we focus specifically on whether player age, total hours played and session count can predict whether a player subscribed to the newsletter. The first two variables are available in the **_players.csv_** dataset (**_Age_** and **_played_hours_**, respectively) while the session count variable will be taken from the sum of the number of rows in the **_sessions.csv_** dataset for each hashed email that is unique per player.\n",
    "\n",
    "Understanding how these player characteristics relate to newsletter subscription behavior will help stakeholders improve how they engage different player types, and may also provide insights into motivations behind long-term or more invested gameplay.\n",
    "\n",
    "#### **(2) Questions**\n",
    "- **Broad question**: What player characteristics and behaviours are most predictive of subscribing to a game-related newsletter, and how do these features differ between various player types?\n",
    "- **Specific question**: Can **_age_**, **_played_hours_** **_session_count_** predict **_subscribe_** in the data set?\n",
    "#### **(3) Description of data sets used**\n",
    "We will be using the **players.csv** and **sessions.csv** datasets.\n",
    "\n",
    "The **players.csv** set has 196 rows, each representing one players, uniquely identified by _hashedEmail_.\n",
    "There are 7 variables in the **players.csv** data set:\n",
    "* _experience_: character, indicating player's experience level\n",
    "* _hashedEmail_: character, unique identifier for each player\n",
    "* _name_: character, player's name\n",
    "* _gender_: character, player's gender\n",
    "* _played_hours_: double, total hour the player has played\n",
    "* _Age_: double, player's age\n",
    "* _subscribe_: logical, whether the player subscribes the newsletter\n",
    "\n",
    "The **sessions.csv** set has 1535 rows, each representing one play session.\n",
    "There are 5 variables in the **session.csv** data set:\n",
    "* _hashedEmail_: character, unique identifier connecting session to a player\n",
    "* _start_time_: character, start time in DD/MM/YYYY HH:MM format\n",
    "* _end_time_: character, end time in DD/MM/YYYY HH:MM format\n",
    "* _original_start_time_: double, unix timestamp of start time\n",
    "* _original_end_time_: double, unix timestamp of end time"
   ]
  },
  {
   "cell_type": "markdown",
   "metadata": {},
   "source": [
    "### **Methods and Results**"
   ]
  },
  {
   "cell_type": "code",
   "execution_count": 1,
   "metadata": {
    "vscode": {
     "languageId": "r"
    }
   },
   "outputs": [],
   "source": [
    "# Run this cell first to load the libraries and set row view limit before continuing\n",
    "# Suppress package startup messages with suppressMessages() for cleanliness\n",
    "suppressMessages(library(repr))\n",
    "suppressMessages(library(tidyverse))\n",
    "suppressMessages(library(tidymodels))\n",
    "\n",
    "options(repr.matrix.max.rows = 6)"
   ]
  },
  {
   "cell_type": "code",
   "execution_count": 2,
   "metadata": {
    "vscode": {
     "languageId": "r"
    }
   },
   "outputs": [],
   "source": [
    "# Read the csv files to their corresponding dataframe variable\n",
    "# Suppress read_csv() messages with suppressMessages() for cleanliness\n",
    "players <- suppressMessages(read_csv(\"data/players.csv\"))\n",
    "sessions <- suppressMessages(read_csv(\"data/sessions.csv\"))"
   ]
  },
  {
   "cell_type": "code",
   "execution_count": 6,
   "metadata": {
    "vscode": {
     "languageId": "r"
    }
   },
   "outputs": [
    {
     "data": {
      "text/html": [
       "<table class=\"dataframe\">\n",
       "<caption>A tibble: 6 × 4</caption>\n",
       "<thead>\n",
       "\t<tr><th scope=col>age</th><th scope=col>played_hours</th><th scope=col>session_count</th><th scope=col>subscribe</th></tr>\n",
       "\t<tr><th scope=col>&lt;dbl&gt;</th><th scope=col>&lt;dbl&gt;</th><th scope=col>&lt;int&gt;</th><th scope=col>&lt;lgl&gt;</th></tr>\n",
       "</thead>\n",
       "<tbody>\n",
       "\t<tr><td> 9</td><td>30.3</td><td>27</td><td> TRUE</td></tr>\n",
       "\t<tr><td>17</td><td> 3.8</td><td> 3</td><td> TRUE</td></tr>\n",
       "\t<tr><td>17</td><td> 0.0</td><td> 1</td><td>FALSE</td></tr>\n",
       "\t<tr><td>21</td><td> 0.7</td><td> 1</td><td> TRUE</td></tr>\n",
       "\t<tr><td>21</td><td> 0.1</td><td> 1</td><td> TRUE</td></tr>\n",
       "\t<tr><td>17</td><td> 0.0</td><td> 0</td><td> TRUE</td></tr>\n",
       "</tbody>\n",
       "</table>\n"
      ],
      "text/latex": [
       "A tibble: 6 × 4\n",
       "\\begin{tabular}{llll}\n",
       " age & played\\_hours & session\\_count & subscribe\\\\\n",
       " <dbl> & <dbl> & <int> & <lgl>\\\\\n",
       "\\hline\n",
       "\t  9 & 30.3 & 27 &  TRUE\\\\\n",
       "\t 17 &  3.8 &  3 &  TRUE\\\\\n",
       "\t 17 &  0.0 &  1 & FALSE\\\\\n",
       "\t 21 &  0.7 &  1 &  TRUE\\\\\n",
       "\t 21 &  0.1 &  1 &  TRUE\\\\\n",
       "\t 17 &  0.0 &  0 &  TRUE\\\\\n",
       "\\end{tabular}\n"
      ],
      "text/markdown": [
       "\n",
       "A tibble: 6 × 4\n",
       "\n",
       "| age &lt;dbl&gt; | played_hours &lt;dbl&gt; | session_count &lt;int&gt; | subscribe &lt;lgl&gt; |\n",
       "|---|---|---|---|\n",
       "|  9 | 30.3 | 27 |  TRUE |\n",
       "| 17 |  3.8 |  3 |  TRUE |\n",
       "| 17 |  0.0 |  1 | FALSE |\n",
       "| 21 |  0.7 |  1 |  TRUE |\n",
       "| 21 |  0.1 |  1 |  TRUE |\n",
       "| 17 |  0.0 |  0 |  TRUE |\n",
       "\n"
      ],
      "text/plain": [
       "  age played_hours session_count subscribe\n",
       "1  9  30.3         27             TRUE    \n",
       "2 17   3.8          3             TRUE    \n",
       "3 17   0.0          1            FALSE    \n",
       "4 21   0.7          1             TRUE    \n",
       "5 21   0.1          1             TRUE    \n",
       "6 17   0.0          0             TRUE    "
      ]
     },
     "metadata": {},
     "output_type": "display_data"
    }
   ],
   "source": [
    "# Group by hashedEmail and summarize the count of rows aggregated per group\n",
    "sessions_formatted <- group_by(sessions, hashedEmail) |>\n",
    "    summarize(session_count = n())\n",
    "\n",
    "# Left join players to sessions_formatted via hashedEmail to retain all the players rows\n",
    "# Replace all blank session_counts with 0 (all players with blank session_counts have a 0 for played_hours)\n",
    "# Rename 'Age' to 'age' for lowercase consistency in the variables\n",
    "# Filter only the desired exploratory variables and response variable\n",
    "# Remove rows with a blank age (there are only 2 NAs in the 'age' column)\n",
    "players_tidy <- left_join(players, sessions_formatted, by = \"hashedEmail\") |>\n",
    "    mutate(session_count = replace_na(session_count, 0)) |>\n",
    "    rename(age = Age) |>\n",
    "    select(age, played_hours, session_count, subscribe) |>\n",
    "    filter(!is.na(age))\n",
    "\n",
    "head(players_tidy)"
   ]
  },
  {
   "cell_type": "code",
   "execution_count": null,
   "metadata": {},
   "outputs": [],
   "source": []
  },
  {
   "cell_type": "markdown",
   "metadata": {},
   "source": [
    "### **Discussions**"
   ]
  }
 ],
 "metadata": {
  "kernelspec": {
   "display_name": "R",
   "language": "R",
   "name": "ir"
  },
  "language_info": {
   "codemirror_mode": "r",
   "file_extension": ".r",
   "mimetype": "text/x-r-source",
   "name": "R",
   "pygments_lexer": "r",
   "version": "4.3.3"
  }
 },
 "nbformat": 4,
 "nbformat_minor": 4
}
