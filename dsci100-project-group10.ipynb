{
 "cells": [
  {
   "cell_type": "markdown",
   "metadata": {},
   "source": [
    "# Predicting Usage of a Minecraft Video Game Research Server\n",
    "\n",
    "### Data Science 100 Project - Group 10\n",
    "\n",
    "By: \n",
    "- Kyle Nguyen (76276393)\n",
    "- Jane Wang\n",
    "- Clianta Anindya"
   ]
  }
 ],
 "metadata": {
  "language_info": {
   "name": "python"
  }
 },
 "nbformat": 4,
 "nbformat_minor": 2
}
