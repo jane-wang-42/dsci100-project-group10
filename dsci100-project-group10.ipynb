{
 "cells": [
  {
   "cell_type": "markdown",
   "metadata": {},
   "source": [
    "# **Predicting Subscription Status based on player characteristics**\n",
    "\n",
    "### Data Science 100 Project - Group 10\n",
    "\n",
    "- Kyle Nguyen (76276393)\n",
    "- Jiayin Wang (47186200)\n",
    "- Clianta Anindya (78508892)\n"
   ]
  },
  {
   "cell_type": "markdown",
   "metadata": {},
   "source": [
    "### **Introduction**"
   ]
  },
  {
   "cell_type": "markdown",
   "metadata": {},
   "source": [
    "#### **(1) Background Information**\n",
    "In recent years, the gaming industry has increasingly relied on data to better understand player behavior and improve user engagement. One area of interest is predicting which players are most likely to subscribe to game-related newsletters, as this can inform targeted recruitment strategies, optimize resource allocation, and improve community building around gaming platforms.

This project is based on data collected by a research group at UBC, led by Professor Frank Wood. The group operates a Minecraft research server (**_plaicraft.ai_**) where they track how users interact within the virtual world. The goal of the broader research initiative is to study player behavior at scale and to identify actionable insights for improving the management and outreach of such servers.

Our group is addressing Question 1 from the project brief: **What player characteristics and behaviours are most predictive of subscribing to a game-related newsletter, and how do these features differ between various player types?**

To explore this, we focus specifically on whether player age and total hours played (i.e., **_Age_** and **_played_hours_**) can predict whether a player subscribed to the newsletter. These variables are available in the **_players.csv_** dataset, which contains data on 196 unique players.

Understanding how these player characteristics relate to newsletter subscription behavior will help stakeholders improve how they engage different player types, and may also provide insights into motivations behind long-term or more invested gameplay.\n",
    "\n",
    "#### **(2) Questions**\n",
    "- **Broad question**: What player characteristics and behaviours are most predictive of subscribing to a game-related newsletter, and how do these features differ between various player types?\n",
    "- **Specific question**: Can **_Age_** and **_played_hours_** predict **_subscribe_** in the data set?\n",
    "#### **(3) Description of data sets used**\n",
    "We use the **players.csv** data set which has 196 rows, each representing one players, uniquely identified by _hashedEmail_.\n",
    "There are 7 variables in the **players.csv** data set:\n",
    "* _experience_: character, indicating player's experience level\n",
    "* _hashedEmail_: character, unique identifier for each player\n",
    "* _name_: character, player's name\n",
    "* _gender_: character, player's gender\n",
    "* _played_hours_: double, total hour the player has played\n",
    "* _Age_: double, player's age\n",
    "* _subscribe_: logical, whether the player subscribes the newsletter"
   ]
  },
  {
   "cell_type": "markdown",
   "metadata": {},
   "source": [
    "### **Methods and Results**"
   ]
  },
  {
   "cell_type": "markdown",
   "metadata": {},
   "source": [
    "### **Discussions**"
   ]
  },
  {
   "cell_type": "markdown",
   "metadata": {},
   "source": [
    "### **References**\n"
   ]
  },
  {
   "cell_type": "code",
   "execution_count": null,
   "metadata": {},
   "outputs": [],
   "source": []
  }
 ],
 "metadata": {
  "kernelspec": {
   "display_name": "Python 3 (ipykernel)",
   "language": "python",
   "name": "python3"
  },
  "language_info": {
   "codemirror_mode": {
    "name": "ipython",
    "version": 3
   },
   "file_extension": ".py",
   "mimetype": "text/x-python",
   "name": "python",
   "nbconvert_exporter": "python",
   "pygments_lexer": "ipython3",
   "version": "3.11.9"
  }
 },
 "nbformat": 4,
 "nbformat_minor": 4
}
