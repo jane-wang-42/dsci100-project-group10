{
 "cells": [
  {
   "cell_type": "markdown",
   "id": "1c068b12-4121-4130-a858-4d864f727bc8",
   "metadata": {},
   "source": [
    "# **Individual Planning Report**"
   ]
  },
  {
   "cell_type": "markdown",
   "id": "b1ce62fc-e157-4f3f-8a2e-3dd36c5aa029",
   "metadata": {},
   "source": [
    "### **1. Data Description and Summary**"
   ]
  },
  {
   "cell_type": "markdown",
   "id": "b057c528-d714-4eea-a619-8022ccbe2a2c",
   "metadata": {},
   "source": [
    "**(1) Observations** \\\n",
    "**players.csv**: 196 rows, each represents one players, uniquely identified by _hashedEmail_.\\\n",
    "**sessions.csv**: 1535 rows, each represents one session.\n",
    "\n",
    "**(2) Variables** \\\n",
    "**players.csv**: 7 variables\n",
    "* _experience_: character, indicating player's experience level\n",
    "* _hashedEmail_: character, unique identifier for each player\n",
    "* _name_: character, player's name\n",
    "* _gender_: character, player's gender\n",
    "* _played_hours_: double, total hour the player has played\n",
    "* _Age_: double, player's age\n",
    "* _subscribe_: logical, whether the player subscribes the newsletter\n",
    "\n",
    "**sessions.csv**: 5 variables \n",
    "* _hashedEmail_: character, unique identifier connecting session to a player\n",
    "* _start_time_: character, start time in Month/Date/Year \n",
    "* _end_time_: character, end time in Month/Date/Year\n",
    "* _original_start_time_: double\n",
    "* _original_end_time_: double\n",
    "\n",
    "**(3) Potential Issues with the data sets**\n",
    "* Missing data: Some observations contain missing values.\n",
    "* Unuseful variables: _hashedEmail_ is used to join the two data sets, but is not useful for prediction.\n",
    "* Inconsistent formatting: _start_time_ and _original_start_time_, _end_time_ and _original_end_time_ are in different formatting.\n",
    "* Outliers: There might be extreme values in the data set "
   ]
  },
  {
   "cell_type": "markdown",
   "id": "791a337e-b5b3-420b-996d-bd6a2f2a9960",
   "metadata": {},
   "source": [
    "### **2. Questions**"
   ]
  },
  {
   "cell_type": "markdown",
   "id": "47c9e193-1e4b-41d1-af71-85f52eecaefb",
   "metadata": {},
   "source": [
    "**(1) Broad Question** \\\n",
    "What player characteristics and behaviours are most predictive of subscribing to a game-related newsletter, and how do these features differ between various player types?\n",
    "\n",
    "**(2) Specific Questions**\\\n",
    "Can **_Age_** (explanatory variable) and **_played_hours_** (explanatory variable) predict **_subscribe_** (response variable) in the data set?\n",
    "\n",
    "**(3) How the data will help address the question** \\\n",
    "The data sets includes player-level data such as _Age_ and _played_hours_. By analyzing these variables, I can explore the relationship between the player's characteristics and their subscription behaviors.\n",
    "\n",
    "**(4) Wrangling plan**\n",
    "* Handling missing values in data sets by removing rows with missing values or imputing the values.\n",
    "* Mutate the _subscribe_ column such that it is a factor using as.factor()\n",
    "* Split the players.csv data into a training set and testing set.\n",
    "* Use cross-validation on training data to decide the optimal k to use.\n",
    "* Conduct k-nn classification on the training set and make model.\n",
    "* Evaluate model performance using the testing set and making confusion matrix."
   ]
  },
  {
   "cell_type": "markdown",
   "id": "d5619df3-2843-48a2-969b-782d69bca27b",
   "metadata": {},
   "source": [
    "### **3. Exploratory Data Analysis and Visualization**"
   ]
  },
  {
   "cell_type": "markdown",
   "id": "ba4795f2-5e1e-4c46-8e0e-fbe7b1ddb23a",
   "metadata": {},
   "source": [
    "####  **Install the packages and load the data sets**"
   ]
  },
  {
   "cell_type": "code",
   "execution_count": 1,
   "id": "ea9c643c-3708-495a-8215-e59413b3bd5d",
   "metadata": {},
   "outputs": [
    {
     "name": "stderr",
     "output_type": "stream",
     "text": [
      "Installing package into 'C:/Users/Jane_Wang/Documents/Rlibs'\n",
      "(as 'lib' is unspecified)\n",
      "\n"
     ]
    },
    {
     "name": "stdout",
     "output_type": "stream",
     "text": [
      "package 'tidyverse' successfully unpacked and MD5 sums checked\n",
      "\n",
      "The downloaded binary packages are in\n",
      "\tC:\\Users\\Jane_Wang\\AppData\\Local\\Temp\\Rtmp84bmNY\\downloaded_packages\n"
     ]
    },
    {
     "name": "stderr",
     "output_type": "stream",
     "text": [
      "Installing package into 'C:/Users/Jane_Wang/Documents/Rlibs'\n",
      "(as 'lib' is unspecified)\n",
      "\n"
     ]
    },
    {
     "name": "stdout",
     "output_type": "stream",
     "text": [
      "package 'readr' successfully unpacked and MD5 sums checked\n",
      "\n",
      "The downloaded binary packages are in\n",
      "\tC:\\Users\\Jane_Wang\\AppData\\Local\\Temp\\Rtmp84bmNY\\downloaded_packages\n"
     ]
    },
    {
     "name": "stderr",
     "output_type": "stream",
     "text": [
      "Installing package into 'C:/Users/Jane_Wang/Documents/Rlibs'\n",
      "(as 'lib' is unspecified)\n",
      "\n"
     ]
    },
    {
     "name": "stdout",
     "output_type": "stream",
     "text": [
      "package 'ggplot2' successfully unpacked and MD5 sums checked\n",
      "\n",
      "The downloaded binary packages are in\n",
      "\tC:\\Users\\Jane_Wang\\AppData\\Local\\Temp\\Rtmp84bmNY\\downloaded_packages\n"
     ]
    },
    {
     "name": "stderr",
     "output_type": "stream",
     "text": [
      "── \u001b[1mAttaching core tidyverse packages\u001b[22m ──────────────────────────────────────────────────────────────── tidyverse 2.0.0 ──\n",
      "\u001b[32m✔\u001b[39m \u001b[34mdplyr    \u001b[39m 1.1.4     \u001b[32m✔\u001b[39m \u001b[34mpurrr    \u001b[39m 1.0.4\n",
      "\u001b[32m✔\u001b[39m \u001b[34mforcats  \u001b[39m 1.0.0     \u001b[32m✔\u001b[39m \u001b[34mstringr  \u001b[39m 1.5.1\n",
      "\u001b[32m✔\u001b[39m \u001b[34mggplot2  \u001b[39m 3.5.1     \u001b[32m✔\u001b[39m \u001b[34mtibble   \u001b[39m 3.2.1\n",
      "\u001b[32m✔\u001b[39m \u001b[34mlubridate\u001b[39m 1.9.4     \u001b[32m✔\u001b[39m \u001b[34mtidyr    \u001b[39m 1.3.1\n",
      "── \u001b[1mConflicts\u001b[22m ────────────────────────────────────────────────────────────────────────────────── tidyverse_conflicts() ──\n",
      "\u001b[31m✖\u001b[39m \u001b[34mdplyr\u001b[39m::\u001b[32mfilter()\u001b[39m masks \u001b[34mstats\u001b[39m::filter()\n",
      "\u001b[31m✖\u001b[39m \u001b[34mdplyr\u001b[39m::\u001b[32mlag()\u001b[39m    masks \u001b[34mstats\u001b[39m::lag()\n",
      "\u001b[36mℹ\u001b[39m Use the conflicted package (\u001b[3m\u001b[34m<http://conflicted.r-lib.org/>\u001b[39m\u001b[23m) to force all conflicts to become errors\n"
     ]
    }
   ],
   "source": [
    ".libPaths(\"C:/Users/Jane_Wang/Documents/Rlibs\")\n",
    "install.packages(\"tidyverse\")\n",
    "install.packages(\"readr\")\n",
    "install.packages(\"ggplot2\")\n",
    "library(\"readr\")\n",
    "library(\"tidyverse\")\n",
    "library(\"ggplot2\")"
   ]
  },
  {
   "cell_type": "code",
   "execution_count": 2,
   "id": "197b497a-52c9-4bce-be58-6d3521d6a46f",
   "metadata": {},
   "outputs": [
    {
     "name": "stderr",
     "output_type": "stream",
     "text": [
      "\u001b[1mRows: \u001b[22m\u001b[34m196\u001b[39m \u001b[1mColumns: \u001b[22m\u001b[34m7\u001b[39m\n",
      "\u001b[36m──\u001b[39m \u001b[1mColumn specification\u001b[22m \u001b[36m────────────────────────────────────────────────────────────────────────────────────────────────\u001b[39m\n",
      "\u001b[1mDelimiter:\u001b[22m \",\"\n",
      "\u001b[31mchr\u001b[39m (4): experience, hashedEmail, name, gender\n",
      "\u001b[32mdbl\u001b[39m (2): played_hours, Age\n",
      "\u001b[33mlgl\u001b[39m (1): subscribe\n",
      "\n",
      "\u001b[36mℹ\u001b[39m Use `spec()` to retrieve the full column specification for this data.\n",
      "\u001b[36mℹ\u001b[39m Specify the column types or set `show_col_types = FALSE` to quiet this message.\n",
      "\u001b[1mRows: \u001b[22m\u001b[34m1535\u001b[39m \u001b[1mColumns: \u001b[22m\u001b[34m5\u001b[39m\n",
      "\u001b[36m──\u001b[39m \u001b[1mColumn specification\u001b[22m \u001b[36m────────────────────────────────────────────────────────────────────────────────────────────────\u001b[39m\n",
      "\u001b[1mDelimiter:\u001b[22m \",\"\n",
      "\u001b[31mchr\u001b[39m (3): hashedEmail, start_time, end_time\n",
      "\u001b[32mdbl\u001b[39m (2): original_start_time, original_end_time\n",
      "\n",
      "\u001b[36mℹ\u001b[39m Use `spec()` to retrieve the full column specification for this data.\n",
      "\u001b[36mℹ\u001b[39m Specify the column types or set `show_col_types = FALSE` to quiet this message.\n"
     ]
    }
   ],
   "source": [
    "players <- read_csv(\"players.csv\")\n",
    "sessions <- read_csv(\"sessions.csv\")"
   ]
  },
  {
   "cell_type": "markdown",
   "id": "3e454614-ee3b-4011-9d58-dc1e65f367e7",
   "metadata": {},
   "source": [
    "#### **Wrangling and tidying data**"
   ]
  },
  {
   "cell_type": "markdown",
   "id": "b6122160-1cbf-4c29-b244-dc7c1be23394",
   "metadata": {},
   "source": [
    "**Select out _hashedEmail_ Column which is not useful for prediction.**"
   ]
  },
  {
   "cell_type": "code",
   "execution_count": 3,
   "id": "796dbe9b-45af-45ab-b0bb-588310fe844f",
   "metadata": {},
   "outputs": [],
   "source": [
    "players <- players |>\n",
    "    select(-hashedEmail)"
   ]
  },
  {
   "cell_type": "markdown",
   "id": "2c2c9771-b01e-4d5c-bd72-9db9fc81fa5e",
   "metadata": {},
   "source": [
    "**Convert the response variable _subscribe_ into factor.**"
   ]
  },
  {
   "cell_type": "code",
   "execution_count": 4,
   "id": "29a1bbb3-ad2e-40a7-91c8-22ed96851696",
   "metadata": {},
   "outputs": [],
   "source": [
    "players <- players |>\n",
    "    mutate(subscribe = as.factor(subscribe))"
   ]
  },
  {
   "cell_type": "markdown",
   "id": "6e83b443-3fb6-47ba-9753-a396b49b89b3",
   "metadata": {},
   "source": [
    "**Deal with NAs (there are only 2 NAs in the Age column, therefore remove rows with missing value)**"
   ]
  },
  {
   "cell_type": "code",
   "execution_count": 5,
   "id": "5a738443-a8ce-401e-9e22-50aaac67be72",
   "metadata": {},
   "outputs": [
    {
     "data": {
      "text/html": [
       "<style>\n",
       ".dl-inline {width: auto; margin:0; padding: 0}\n",
       ".dl-inline>dt, .dl-inline>dd {float: none; width: auto; display: inline-block}\n",
       ".dl-inline>dt::after {content: \":\\0020\"; padding-right: .5ex}\n",
       ".dl-inline>dt:not(:first-of-type) {padding-left: .5ex}\n",
       "</style><dl class=dl-inline><dt>experience</dt><dd>0</dd><dt>subscribe</dt><dd>0</dd><dt>played_hours</dt><dd>0</dd><dt>name</dt><dd>0</dd><dt>gender</dt><dd>0</dd><dt>Age</dt><dd>2</dd></dl>\n"
      ],
      "text/latex": [
       "\\begin{description*}\n",
       "\\item[experience] 0\n",
       "\\item[subscribe] 0\n",
       "\\item[played\\textbackslash{}\\_hours] 0\n",
       "\\item[name] 0\n",
       "\\item[gender] 0\n",
       "\\item[Age] 2\n",
       "\\end{description*}\n"
      ],
      "text/markdown": [
       "experience\n",
       ":   0subscribe\n",
       ":   0played_hours\n",
       ":   0name\n",
       ":   0gender\n",
       ":   0Age\n",
       ":   2\n",
       "\n"
      ],
      "text/plain": [
       "  experience    subscribe played_hours         name       gender          Age \n",
       "           0            0            0            0            0            2 "
      ]
     },
     "metadata": {},
     "output_type": "display_data"
    },
    {
     "data": {
      "text/html": [
       "<style>\n",
       ".dl-inline {width: auto; margin:0; padding: 0}\n",
       ".dl-inline>dt, .dl-inline>dd {float: none; width: auto; display: inline-block}\n",
       ".dl-inline>dt::after {content: \":\\0020\"; padding-right: .5ex}\n",
       ".dl-inline>dt:not(:first-of-type) {padding-left: .5ex}\n",
       "</style><dl class=dl-inline><dt>experience</dt><dd>0</dd><dt>subscribe</dt><dd>0</dd><dt>played_hours</dt><dd>0</dd><dt>name</dt><dd>0</dd><dt>gender</dt><dd>0</dd><dt>Age</dt><dd>0</dd></dl>\n"
      ],
      "text/latex": [
       "\\begin{description*}\n",
       "\\item[experience] 0\n",
       "\\item[subscribe] 0\n",
       "\\item[played\\textbackslash{}\\_hours] 0\n",
       "\\item[name] 0\n",
       "\\item[gender] 0\n",
       "\\item[Age] 0\n",
       "\\end{description*}\n"
      ],
      "text/markdown": [
       "experience\n",
       ":   0subscribe\n",
       ":   0played_hours\n",
       ":   0name\n",
       ":   0gender\n",
       ":   0Age\n",
       ":   0\n",
       "\n"
      ],
      "text/plain": [
       "  experience    subscribe played_hours         name       gender          Age \n",
       "           0            0            0            0            0            0 "
      ]
     },
     "metadata": {},
     "output_type": "display_data"
    },
    {
     "data": {
      "text/html": [
       "<table class=\"dataframe\">\n",
       "<caption>A tibble: 6 × 6</caption>\n",
       "<thead>\n",
       "\t<tr><th scope=col>experience</th><th scope=col>subscribe</th><th scope=col>played_hours</th><th scope=col>name</th><th scope=col>gender</th><th scope=col>Age</th></tr>\n",
       "\t<tr><th scope=col>&lt;chr&gt;</th><th scope=col>&lt;fct&gt;</th><th scope=col>&lt;dbl&gt;</th><th scope=col>&lt;chr&gt;</th><th scope=col>&lt;chr&gt;</th><th scope=col>&lt;dbl&gt;</th></tr>\n",
       "</thead>\n",
       "<tbody>\n",
       "\t<tr><td>Pro    </td><td>TRUE </td><td>30.3</td><td>Morgan   </td><td>Male  </td><td> 9</td></tr>\n",
       "\t<tr><td>Veteran</td><td>TRUE </td><td> 3.8</td><td>Christian</td><td>Male  </td><td>17</td></tr>\n",
       "\t<tr><td>Veteran</td><td>FALSE</td><td> 0.0</td><td>Blake    </td><td>Male  </td><td>17</td></tr>\n",
       "\t<tr><td>Amateur</td><td>TRUE </td><td> 0.7</td><td>Flora    </td><td>Female</td><td>21</td></tr>\n",
       "\t<tr><td>Regular</td><td>TRUE </td><td> 0.1</td><td>Kylie    </td><td>Male  </td><td>21</td></tr>\n",
       "\t<tr><td>Amateur</td><td>TRUE </td><td> 0.0</td><td>Adrian   </td><td>Female</td><td>17</td></tr>\n",
       "</tbody>\n",
       "</table>\n"
      ],
      "text/latex": [
       "A tibble: 6 × 6\n",
       "\\begin{tabular}{llllll}\n",
       " experience & subscribe & played\\_hours & name & gender & Age\\\\\n",
       " <chr> & <fct> & <dbl> & <chr> & <chr> & <dbl>\\\\\n",
       "\\hline\n",
       "\t Pro     & TRUE  & 30.3 & Morgan    & Male   &  9\\\\\n",
       "\t Veteran & TRUE  &  3.8 & Christian & Male   & 17\\\\\n",
       "\t Veteran & FALSE &  0.0 & Blake     & Male   & 17\\\\\n",
       "\t Amateur & TRUE  &  0.7 & Flora     & Female & 21\\\\\n",
       "\t Regular & TRUE  &  0.1 & Kylie     & Male   & 21\\\\\n",
       "\t Amateur & TRUE  &  0.0 & Adrian    & Female & 17\\\\\n",
       "\\end{tabular}\n"
      ],
      "text/markdown": [
       "\n",
       "A tibble: 6 × 6\n",
       "\n",
       "| experience &lt;chr&gt; | subscribe &lt;fct&gt; | played_hours &lt;dbl&gt; | name &lt;chr&gt; | gender &lt;chr&gt; | Age &lt;dbl&gt; |\n",
       "|---|---|---|---|---|---|\n",
       "| Pro     | TRUE  | 30.3 | Morgan    | Male   |  9 |\n",
       "| Veteran | TRUE  |  3.8 | Christian | Male   | 17 |\n",
       "| Veteran | FALSE |  0.0 | Blake     | Male   | 17 |\n",
       "| Amateur | TRUE  |  0.7 | Flora     | Female | 21 |\n",
       "| Regular | TRUE  |  0.1 | Kylie     | Male   | 21 |\n",
       "| Amateur | TRUE  |  0.0 | Adrian    | Female | 17 |\n",
       "\n"
      ],
      "text/plain": [
       "  experience subscribe played_hours name      gender Age\n",
       "1 Pro        TRUE      30.3         Morgan    Male    9 \n",
       "2 Veteran    TRUE       3.8         Christian Male   17 \n",
       "3 Veteran    FALSE      0.0         Blake     Male   17 \n",
       "4 Amateur    TRUE       0.7         Flora     Female 21 \n",
       "5 Regular    TRUE       0.1         Kylie     Male   21 \n",
       "6 Amateur    TRUE       0.0         Adrian    Female 17 "
      ]
     },
     "metadata": {},
     "output_type": "display_data"
    }
   ],
   "source": [
    "colSums(is.na(players))\n",
    "players <- na.omit(players)\n",
    "colSums(is.na(players))\n",
    "head(players)"
   ]
  },
  {
   "cell_type": "markdown",
   "id": "d7f3e7ff-5853-4a50-bdc5-fbb4b7eb7ec2",
   "metadata": {},
   "source": [
    "#### **Compute means for quantitative variables**"
   ]
  },
  {
   "cell_type": "code",
   "execution_count": 6,
   "id": "7a54b43c-0d21-4960-9723-2a01feefe213",
   "metadata": {},
   "outputs": [
    {
     "data": {
      "text/html": [
       "<table class=\"dataframe\">\n",
       "<caption>A tibble: 1 × 2</caption>\n",
       "<thead>\n",
       "\t<tr><th scope=col>mean_played_hours</th><th scope=col>mean_Age</th></tr>\n",
       "\t<tr><th scope=col>&lt;dbl&gt;</th><th scope=col>&lt;dbl&gt;</th></tr>\n",
       "</thead>\n",
       "<tbody>\n",
       "\t<tr><td>5.904639</td><td>20.52062</td></tr>\n",
       "</tbody>\n",
       "</table>\n"
      ],
      "text/latex": [
       "A tibble: 1 × 2\n",
       "\\begin{tabular}{ll}\n",
       " mean\\_played\\_hours & mean\\_Age\\\\\n",
       " <dbl> & <dbl>\\\\\n",
       "\\hline\n",
       "\t 5.904639 & 20.52062\\\\\n",
       "\\end{tabular}\n"
      ],
      "text/markdown": [
       "\n",
       "A tibble: 1 × 2\n",
       "\n",
       "| mean_played_hours &lt;dbl&gt; | mean_Age &lt;dbl&gt; |\n",
       "|---|---|\n",
       "| 5.904639 | 20.52062 |\n",
       "\n"
      ],
      "text/plain": [
       "  mean_played_hours mean_Age\n",
       "1 5.904639          20.52062"
      ]
     },
     "metadata": {},
     "output_type": "display_data"
    }
   ],
   "source": [
    "players_quant_vars <- players |>\n",
    "    select(played_hours, Age)\n",
    "players_mean <- players |>\n",
    "    summarise(mean_played_hours = mean(played_hours),\n",
    "              mean_Age = mean(Age))\n",
    "players_mean"
   ]
  },
  {
   "cell_type": "markdown",
   "id": "c9e91eae-6297-4750-a87f-e1887cc05863",
   "metadata": {},
   "source": [
    "#### **Exploratory Visualizations**"
   ]
  },
  {
   "cell_type": "markdown",
   "id": "205d5eed-9cb5-48d6-b79c-051bf40378bf",
   "metadata": {},
   "source": [
    "**(1) Relationship of _Age_ and _played_hours_ by subscription (scatterplot)**"
   ]
  },
  {
   "cell_type": "code",
   "execution_count": 7,
   "id": "95f3624d-f9b5-47ab-b8c8-b2ec3fa5e504",
   "metadata": {},
   "outputs": [
    {
     "data": {
      "image/png": "[encoded data removed]",
      "text/plain": [
       "plot without title"
      ]
     },
     "metadata": {
      "image/png": {
       "height": 660,
       "width": 780
      }
     },
     "output_type": "display_data"
    }
   ],
   "source": [
    "options(repr.plot.width = 13, repr.plot.height = 11)\n",
    "\n",
    "age_hours_plot <- ggplot(players, aes(x = Age, y = played_hours, color = subscribe)) +\n",
    "  geom_point() +\n",
    "  labs(x = \"Age (years)\", \n",
    "       y = \"Played Hours (hrs)\",\n",
    "       color = \"Subscribed\") +\n",
    "    ggtitle(\"Age vs hours played by subscription\")\n",
    "age_hours_plot"
   ]
  },
  {
   "cell_type": "markdown",
   "id": "fc111d27-2a7f-4240-86b8-884cc35113ee",
   "metadata": {},
   "source": [
    "This plot indicate that there is no clear relationship between Age and Played Hours. This might indicate that these two predictive variables doens't interact in a meaningful way to affect the response variable _subscribe_."
   ]
  },
  {
   "cell_type": "markdown",
   "id": "ea5245ef-fe7f-4223-aa4a-127d9dded3b6",
   "metadata": {},
   "source": [
    "**(2) Relationship between _Age_ and Number of subscriptions (bar plot)**"
   ]
  },
  {
   "cell_type": "code",
   "execution_count": 8,
   "id": "dea27856-c07c-41a1-a81e-a59af090846b",
   "metadata": {},
   "outputs": [
    {
     "name": "stderr",
     "output_type": "stream",
     "text": [
      "\u001b[1m\u001b[22m`summarise()` has grouped output by 'Age'. You can override using the `.groups` argument.\n"
     ]
    },
    {
     "data": {
      "image/png": "[encoded data removed]",
      "text/plain": [
       "plot without title"
      ]
     },
     "metadata": {
      "image/png": {
       "height": 660,
       "width": 780
      }
     },
     "output_type": "display_data"
    }
   ],
   "source": [
    "options(repr.plot.width = 13, repr.plot.height = 11)\n",
    "\n",
    "age_sub_num <- players |>\n",
    "    filter(subscribe == TRUE) |>\n",
    "    group_by(Age, subscribe) |>\n",
    "    summarise(subscribe_num = n()) \n",
    "\n",
    "age_dist_plot <- ggplot(age_sub_num, aes(x = as.factor(Age), y = subscribe_num)) +\n",
    "    geom_bar(stat = \"identity\", fill = \"skyblue\") +\n",
    "    labs(x = \"Age\",\n",
    "        y = \"Number of Subscriptions\") +\n",
    "    ggtitle(\"Number of Subscriptions by Age\")\n",
    "\n",
    "age_dist_plot"
   ]
  },
  {
   "cell_type": "markdown",
   "id": "7bdb2372-5815-4c5f-9026-f40754bd4699",
   "metadata": {},
   "source": [
    "This plot explores how many players in each age group have subscribed the newsletter. Some age groups have a significantly higher subscription numbers than the others (such as 17, 21, 21, etc.), indicating that Age could be an important predictor of whether a player subscribes the newsletter."
   ]
  },
  {
   "cell_type": "markdown",
   "id": "02c532d3-716e-4e43-977a-0cdc5230a4c4",
   "metadata": {},
   "source": [
    "### 4. Method and Plan"
   ]
  },
  {
   "cell_type": "markdown",
   "id": "f3c98583-8e66-461c-9f1e-e6d0e21760ca",
   "metadata": {},
   "source": [
    "I would use **K Nearest Neighbor classfication** to predict whether a player subscribes the game newletter, based on _Age_ and _played_hours_."
   ]
  },
  {
   "cell_type": "markdown",
   "id": "dbd0f4a4-1b33-4677-b9b4-b18ba25c29dc",
   "metadata": {},
   "source": [
    "* Reason of choosing K-nn: K-nn classification is useful when predicting a binary outcome. K-nn is straightforward and effective. By using K-nn, we can predicts the class of a data point based on its K nearest neighbors. \n",
    "* Assumptions required for model: The predictive variables (_Age_ and _played_hours_) should be centered and scaled, ensuring they contribute equally to the result and there is no one single variable that dominates the result.\n",
    "* Potential limitations: After scaling and centering the data, k-nn will consider all the variables equally. This means that irrelevant or redundant variables can negatively impact performance by producing noise. \n",
    "* How to compare and select the model: Use cross validation to choose the optimal K value that balances overfitting and underfitting, ensuring a accurate model. Also, use confusion matrix, accuracy, precision, and recall to evaluate the model and select the best model.\n",
    "* How to process data: Split the data into 70% training set and 30% testing set. Additionally, use cross validation to choose the best K value."
   ]
  }
 ],
 "metadata": {
  "kernelspec": {
   "display_name": "R",
   "language": "R",
   "name": "ir"
  },
  "language_info": {
   "codemirror_mode": "r",
   "file_extension": ".r",
   "mimetype": "text/x-r-source",
   "name": "R",
   "pygments_lexer": "r",
   "version": "4.4.3"
  }
 },
 "nbformat": 4,
 "nbformat_minor": 5
}
